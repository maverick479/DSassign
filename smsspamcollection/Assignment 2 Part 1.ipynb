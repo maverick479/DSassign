{
 "cells": [
  {
   "cell_type": "code",
   "execution_count": 1,
   "id": "913cb27d",
   "metadata": {},
   "outputs": [],
   "source": [
    "#importing requried modules\n",
    "import numpy as np\n",
    "import pandas as pd\n",
    "import matplotlib.pyplot as plt\n",
    "import seaborn as sns\n",
    "import scipy as sp\n",
    "#from google.colab import files\n",
    "from sklearn import feature_extraction, model_selection, naive_bayes, metrics, svm\n",
    "from sklearn.ensemble import RandomForestClassifier\n",
    "from sklearn.model_selection import train_test_split\n",
    "from sklearn.metrics import precision_recall_fscore_support as score\n",
    "%matplotlib inline\n"
   ]
  },
  {
   "cell_type": "code",
   "execution_count": 2,
   "id": "bf1e805d",
   "metadata": {},
   "outputs": [],
   "source": [
    "#conda install google.colab"
   ]
  },
  {
   "cell_type": "code",
   "execution_count": 3,
   "id": "5da82a98",
   "metadata": {},
   "outputs": [],
   "source": [
    "#uploaded = files.upload()\n",
    "dataset = pd.read_csv('spam.csv')"
   ]
  },
  {
   "cell_type": "code",
   "execution_count": 4,
   "id": "a6751e77",
   "metadata": {},
   "outputs": [
    {
     "data": {
      "text/html": [
       "<div>\n",
       "<style scoped>\n",
       "    .dataframe tbody tr th:only-of-type {\n",
       "        vertical-align: middle;\n",
       "    }\n",
       "\n",
       "    .dataframe tbody tr th {\n",
       "        vertical-align: top;\n",
       "    }\n",
       "\n",
       "    .dataframe thead th {\n",
       "        text-align: right;\n",
       "    }\n",
       "</style>\n",
       "<table border=\"1\" class=\"dataframe\">\n",
       "  <thead>\n",
       "    <tr style=\"text-align: right;\">\n",
       "      <th></th>\n",
       "      <th>v1</th>\n",
       "      <th>v2</th>\n",
       "      <th>Unnamed: 2</th>\n",
       "      <th>Unnamed: 3</th>\n",
       "      <th>Unnamed: 4</th>\n",
       "    </tr>\n",
       "  </thead>\n",
       "  <tbody>\n",
       "    <tr>\n",
       "      <th>0</th>\n",
       "      <td>ham</td>\n",
       "      <td>Go until jurong point, crazy.. Available only ...</td>\n",
       "      <td>NaN</td>\n",
       "      <td>NaN</td>\n",
       "      <td>NaN</td>\n",
       "    </tr>\n",
       "    <tr>\n",
       "      <th>1</th>\n",
       "      <td>ham</td>\n",
       "      <td>Ok lar... Joking wif u oni...</td>\n",
       "      <td>NaN</td>\n",
       "      <td>NaN</td>\n",
       "      <td>NaN</td>\n",
       "    </tr>\n",
       "    <tr>\n",
       "      <th>2</th>\n",
       "      <td>spam</td>\n",
       "      <td>Free entry in 2 a wkly comp to win FA Cup fina...</td>\n",
       "      <td>NaN</td>\n",
       "      <td>NaN</td>\n",
       "      <td>NaN</td>\n",
       "    </tr>\n",
       "    <tr>\n",
       "      <th>3</th>\n",
       "      <td>ham</td>\n",
       "      <td>U dun say so early hor... U c already then say...</td>\n",
       "      <td>NaN</td>\n",
       "      <td>NaN</td>\n",
       "      <td>NaN</td>\n",
       "    </tr>\n",
       "    <tr>\n",
       "      <th>4</th>\n",
       "      <td>ham</td>\n",
       "      <td>Nah I don't think he goes to usf, he lives aro...</td>\n",
       "      <td>NaN</td>\n",
       "      <td>NaN</td>\n",
       "      <td>NaN</td>\n",
       "    </tr>\n",
       "  </tbody>\n",
       "</table>\n",
       "</div>"
      ],
      "text/plain": [
       "     v1                                                 v2 Unnamed: 2  \\\n",
       "0   ham  Go until jurong point, crazy.. Available only ...        NaN   \n",
       "1   ham                      Ok lar... Joking wif u oni...        NaN   \n",
       "2  spam  Free entry in 2 a wkly comp to win FA Cup fina...        NaN   \n",
       "3   ham  U dun say so early hor... U c already then say...        NaN   \n",
       "4   ham  Nah I don't think he goes to usf, he lives aro...        NaN   \n",
       "\n",
       "  Unnamed: 3 Unnamed: 4  \n",
       "0        NaN        NaN  \n",
       "1        NaN        NaN  \n",
       "2        NaN        NaN  \n",
       "3        NaN        NaN  \n",
       "4        NaN        NaN  "
      ]
     },
     "execution_count": 4,
     "metadata": {},
     "output_type": "execute_result"
    }
   ],
   "source": [
    "dataset.head()"
   ]
  },
  {
   "cell_type": "code",
   "execution_count": 5,
   "id": "34d4e8be",
   "metadata": {},
   "outputs": [],
   "source": [
    "#removing unnamed columns\n",
    "dataset = dataset.drop('Unnamed: 2', 1)\n",
    "dataset = dataset.drop('Unnamed: 3', 1)\n",
    "dataset = dataset.drop('Unnamed: 4', 1)"
   ]
  },
  {
   "cell_type": "code",
   "execution_count": 6,
   "id": "0bbc565a",
   "metadata": {},
   "outputs": [
    {
     "data": {
      "text/html": [
       "<div>\n",
       "<style scoped>\n",
       "    .dataframe tbody tr th:only-of-type {\n",
       "        vertical-align: middle;\n",
       "    }\n",
       "\n",
       "    .dataframe tbody tr th {\n",
       "        vertical-align: top;\n",
       "    }\n",
       "\n",
       "    .dataframe thead th {\n",
       "        text-align: right;\n",
       "    }\n",
       "</style>\n",
       "<table border=\"1\" class=\"dataframe\">\n",
       "  <thead>\n",
       "    <tr style=\"text-align: right;\">\n",
       "      <th></th>\n",
       "      <th>v1</th>\n",
       "      <th>v2</th>\n",
       "    </tr>\n",
       "  </thead>\n",
       "  <tbody>\n",
       "    <tr>\n",
       "      <th>0</th>\n",
       "      <td>ham</td>\n",
       "      <td>Go until jurong point, crazy.. Available only ...</td>\n",
       "    </tr>\n",
       "    <tr>\n",
       "      <th>1</th>\n",
       "      <td>ham</td>\n",
       "      <td>Ok lar... Joking wif u oni...</td>\n",
       "    </tr>\n",
       "    <tr>\n",
       "      <th>2</th>\n",
       "      <td>spam</td>\n",
       "      <td>Free entry in 2 a wkly comp to win FA Cup fina...</td>\n",
       "    </tr>\n",
       "    <tr>\n",
       "      <th>3</th>\n",
       "      <td>ham</td>\n",
       "      <td>U dun say so early hor... U c already then say...</td>\n",
       "    </tr>\n",
       "    <tr>\n",
       "      <th>4</th>\n",
       "      <td>ham</td>\n",
       "      <td>Nah I don't think he goes to usf, he lives aro...</td>\n",
       "    </tr>\n",
       "  </tbody>\n",
       "</table>\n",
       "</div>"
      ],
      "text/plain": [
       "     v1                                                 v2\n",
       "0   ham  Go until jurong point, crazy.. Available only ...\n",
       "1   ham                      Ok lar... Joking wif u oni...\n",
       "2  spam  Free entry in 2 a wkly comp to win FA Cup fina...\n",
       "3   ham  U dun say so early hor... U c already then say...\n",
       "4   ham  Nah I don't think he goes to usf, he lives aro..."
      ]
     },
     "execution_count": 6,
     "metadata": {},
     "output_type": "execute_result"
    }
   ],
   "source": [
    "dataset.head()"
   ]
  },
  {
   "cell_type": "code",
   "execution_count": 7,
   "id": "95d4eb71",
   "metadata": {},
   "outputs": [],
   "source": [
    "dataset = dataset.rename(columns = {'v1':'label','v2':'message'})\n"
   ]
  },
  {
   "cell_type": "code",
   "execution_count": 8,
   "id": "5aa50b20",
   "metadata": {},
   "outputs": [
    {
     "data": {
      "text/html": [
       "<div>\n",
       "<style scoped>\n",
       "    .dataframe tbody tr th:only-of-type {\n",
       "        vertical-align: middle;\n",
       "    }\n",
       "\n",
       "    .dataframe tbody tr th {\n",
       "        vertical-align: top;\n",
       "    }\n",
       "\n",
       "    .dataframe thead tr th {\n",
       "        text-align: left;\n",
       "    }\n",
       "\n",
       "    .dataframe thead tr:last-of-type th {\n",
       "        text-align: right;\n",
       "    }\n",
       "</style>\n",
       "<table border=\"1\" class=\"dataframe\">\n",
       "  <thead>\n",
       "    <tr>\n",
       "      <th></th>\n",
       "      <th colspan=\"4\" halign=\"left\">message</th>\n",
       "    </tr>\n",
       "    <tr>\n",
       "      <th></th>\n",
       "      <th>count</th>\n",
       "      <th>unique</th>\n",
       "      <th>top</th>\n",
       "      <th>freq</th>\n",
       "    </tr>\n",
       "    <tr>\n",
       "      <th>label</th>\n",
       "      <th></th>\n",
       "      <th></th>\n",
       "      <th></th>\n",
       "      <th></th>\n",
       "    </tr>\n",
       "  </thead>\n",
       "  <tbody>\n",
       "    <tr>\n",
       "      <th>ham</th>\n",
       "      <td>4825</td>\n",
       "      <td>4516</td>\n",
       "      <td>Sorry, I'll call later</td>\n",
       "      <td>30</td>\n",
       "    </tr>\n",
       "    <tr>\n",
       "      <th>spam</th>\n",
       "      <td>747</td>\n",
       "      <td>653</td>\n",
       "      <td>Please call our customer service representativ...</td>\n",
       "      <td>4</td>\n",
       "    </tr>\n",
       "  </tbody>\n",
       "</table>\n",
       "</div>"
      ],
      "text/plain": [
       "      message                                                               \n",
       "        count unique                                                top freq\n",
       "label                                                                       \n",
       "ham      4825   4516                             Sorry, I'll call later   30\n",
       "spam      747    653  Please call our customer service representativ...    4"
      ]
     },
     "execution_count": 8,
     "metadata": {},
     "output_type": "execute_result"
    }
   ],
   "source": [
    "dataset.groupby('label').describe()"
   ]
  },
  {
   "cell_type": "code",
   "execution_count": 9,
   "id": "a6c34a5d",
   "metadata": {},
   "outputs": [
    {
     "data": {
      "text/html": [
       "<div>\n",
       "<style scoped>\n",
       "    .dataframe tbody tr th:only-of-type {\n",
       "        vertical-align: middle;\n",
       "    }\n",
       "\n",
       "    .dataframe tbody tr th {\n",
       "        vertical-align: top;\n",
       "    }\n",
       "\n",
       "    .dataframe thead th {\n",
       "        text-align: right;\n",
       "    }\n",
       "</style>\n",
       "<table border=\"1\" class=\"dataframe\">\n",
       "  <thead>\n",
       "    <tr style=\"text-align: right;\">\n",
       "      <th></th>\n",
       "      <th>label</th>\n",
       "      <th>message</th>\n",
       "    </tr>\n",
       "  </thead>\n",
       "  <tbody>\n",
       "    <tr>\n",
       "      <th>0</th>\n",
       "      <td>ham</td>\n",
       "      <td>Go until jurong point, crazy.. Available only ...</td>\n",
       "    </tr>\n",
       "    <tr>\n",
       "      <th>1</th>\n",
       "      <td>ham</td>\n",
       "      <td>Ok lar... Joking wif u oni...</td>\n",
       "    </tr>\n",
       "    <tr>\n",
       "      <th>2</th>\n",
       "      <td>spam</td>\n",
       "      <td>Free entry in 2 a wkly comp to win FA Cup fina...</td>\n",
       "    </tr>\n",
       "    <tr>\n",
       "      <th>3</th>\n",
       "      <td>ham</td>\n",
       "      <td>U dun say so early hor... U c already then say...</td>\n",
       "    </tr>\n",
       "  </tbody>\n",
       "</table>\n",
       "</div>"
      ],
      "text/plain": [
       "  label                                            message\n",
       "0   ham  Go until jurong point, crazy.. Available only ...\n",
       "1   ham                      Ok lar... Joking wif u oni...\n",
       "2  spam  Free entry in 2 a wkly comp to win FA Cup fina...\n",
       "3   ham  U dun say so early hor... U c already then say..."
      ]
     },
     "execution_count": 9,
     "metadata": {},
     "output_type": "execute_result"
    }
   ],
   "source": [
    "dataset.head(4)"
   ]
  },
  {
   "cell_type": "code",
   "execution_count": 10,
   "id": "9bda0e6d",
   "metadata": {},
   "outputs": [
    {
     "data": {
      "image/png": "[encoded data removed]",
      "text/plain": [
       "<Figure size 432x288 with 1 Axes>"
      ]
     },
     "metadata": {
      "needs_background": "light"
     },
     "output_type": "display_data"
    }
   ],
   "source": [
    "count = pd.value_counts(dataset[\"label\"],sort=True)\n",
    "count.plot(kind=\"bar\",color=[\"red\",\"blue\"])\n",
    "plt.plot('Bar plot')\n",
    "plt.show()"
   ]
  },
  {
   "cell_type": "code",
   "execution_count": 11,
   "id": "95bc965f",
   "metadata": {},
   "outputs": [
    {
     "data": {
      "text/plain": [
       "(5572, 8357)"
      ]
     },
     "execution_count": 11,
     "metadata": {},
     "output_type": "execute_result"
    }
   ],
   "source": [
    "f = feature_extraction.text.CountVectorizer(stop_words ='english')\n",
    "X = f.fit_transform(dataset[\"message\"])\n",
    "np.shape(X)"
   ]
  },
  {
   "cell_type": "code",
   "execution_count": 12,
   "id": "59b5e01d",
   "metadata": {},
   "outputs": [],
   "source": [
    "dataset[\"label\"]= dataset[\"label\"].map({\"spam\":1,\"ham\":0})\n",
    "X_train,X_test, y_train, y_test = model_selection.train_test_split(X, dataset['label'], test_size=0.70, random_state=42)"
   ]
  },
  {
   "cell_type": "code",
   "execution_count": 13,
   "id": "03d39ae5",
   "metadata": {},
   "outputs": [],
   "source": [
    "list_alpha = np.arange(1/100000, 20, 0.11)\n",
    "score_train = np.zeros(len(list_alpha))\n",
    "score_test = np.zeros(len(list_alpha))\n",
    "recall_test = np.zeros(len(list_alpha))\n",
    "precision_test= np.zeros(len(list_alpha))\n",
    "count = 0\n",
    "for alpha in list_alpha:\n",
    "    bayes = naive_bayes.MultinomialNB(alpha=alpha)\n",
    "    bayes.fit(X_train, y_train)\n",
    "    score_train[count] = bayes.score(X_train, y_train)\n",
    "    score_test[count]= bayes.score(X_test, y_test)\n",
    "    recall_test[count] = metrics.recall_score(y_test, bayes.predict(X_test))\n",
    "    precision_test[count] = metrics.precision_score(y_test, bayes.predict(X_test))\n",
    "    count = count + 1 "
   ]
  },
  {
   "cell_type": "code",
   "execution_count": 14,
   "id": "f63a3e3d",
   "metadata": {},
   "outputs": [
    {
     "data": {
      "text/html": [
       "<div>\n",
       "<style scoped>\n",
       "    .dataframe tbody tr th:only-of-type {\n",
       "        vertical-align: middle;\n",
       "    }\n",
       "\n",
       "    .dataframe tbody tr th {\n",
       "        vertical-align: top;\n",
       "    }\n",
       "\n",
       "    .dataframe thead th {\n",
       "        text-align: right;\n",
       "    }\n",
       "</style>\n",
       "<table border=\"1\" class=\"dataframe\">\n",
       "  <thead>\n",
       "    <tr style=\"text-align: right;\">\n",
       "      <th></th>\n",
       "      <th>alpha</th>\n",
       "      <th>Train Accuracy</th>\n",
       "      <th>Test Accuracy</th>\n",
       "      <th>Test Recall</th>\n",
       "      <th>Test Precision</th>\n",
       "    </tr>\n",
       "  </thead>\n",
       "  <tbody>\n",
       "    <tr>\n",
       "      <th>0</th>\n",
       "      <td>0.00001</td>\n",
       "      <td>0.998803</td>\n",
       "      <td>0.961548</td>\n",
       "      <td>0.913793</td>\n",
       "      <td>0.819588</td>\n",
       "    </tr>\n",
       "    <tr>\n",
       "      <th>1</th>\n",
       "      <td>0.11001</td>\n",
       "      <td>0.998803</td>\n",
       "      <td>0.965650</td>\n",
       "      <td>0.944444</td>\n",
       "      <td>0.824415</td>\n",
       "    </tr>\n",
       "    <tr>\n",
       "      <th>2</th>\n",
       "      <td>0.22001</td>\n",
       "      <td>0.999402</td>\n",
       "      <td>0.967444</td>\n",
       "      <td>0.938697</td>\n",
       "      <td>0.837607</td>\n",
       "    </tr>\n",
       "    <tr>\n",
       "      <th>3</th>\n",
       "      <td>0.33001</td>\n",
       "      <td>0.999402</td>\n",
       "      <td>0.968470</td>\n",
       "      <td>0.938697</td>\n",
       "      <td>0.843373</td>\n",
       "    </tr>\n",
       "    <tr>\n",
       "      <th>4</th>\n",
       "      <td>0.44001</td>\n",
       "      <td>0.999402</td>\n",
       "      <td>0.971289</td>\n",
       "      <td>0.927203</td>\n",
       "      <td>0.867384</td>\n",
       "    </tr>\n",
       "    <tr>\n",
       "      <th>5</th>\n",
       "      <td>0.55001</td>\n",
       "      <td>0.998803</td>\n",
       "      <td>0.975904</td>\n",
       "      <td>0.923372</td>\n",
       "      <td>0.899254</td>\n",
       "    </tr>\n",
       "    <tr>\n",
       "      <th>6</th>\n",
       "      <td>0.66001</td>\n",
       "      <td>0.998803</td>\n",
       "      <td>0.976673</td>\n",
       "      <td>0.919540</td>\n",
       "      <td>0.907372</td>\n",
       "    </tr>\n",
       "    <tr>\n",
       "      <th>7</th>\n",
       "      <td>0.77001</td>\n",
       "      <td>0.997606</td>\n",
       "      <td>0.977698</td>\n",
       "      <td>0.917625</td>\n",
       "      <td>0.915870</td>\n",
       "    </tr>\n",
       "    <tr>\n",
       "      <th>8</th>\n",
       "      <td>0.88001</td>\n",
       "      <td>0.997606</td>\n",
       "      <td>0.978211</td>\n",
       "      <td>0.909962</td>\n",
       "      <td>0.925926</td>\n",
       "    </tr>\n",
       "    <tr>\n",
       "      <th>9</th>\n",
       "      <td>0.99001</td>\n",
       "      <td>0.997606</td>\n",
       "      <td>0.978211</td>\n",
       "      <td>0.902299</td>\n",
       "      <td>0.932673</td>\n",
       "    </tr>\n",
       "  </tbody>\n",
       "</table>\n",
       "</div>"
      ],
      "text/plain": [
       "     alpha  Train Accuracy  Test Accuracy  Test Recall  Test Precision\n",
       "0  0.00001        0.998803       0.961548     0.913793        0.819588\n",
       "1  0.11001        0.998803       0.965650     0.944444        0.824415\n",
       "2  0.22001        0.999402       0.967444     0.938697        0.837607\n",
       "3  0.33001        0.999402       0.968470     0.938697        0.843373\n",
       "4  0.44001        0.999402       0.971289     0.927203        0.867384\n",
       "5  0.55001        0.998803       0.975904     0.923372        0.899254\n",
       "6  0.66001        0.998803       0.976673     0.919540        0.907372\n",
       "7  0.77001        0.997606       0.977698     0.917625        0.915870\n",
       "8  0.88001        0.997606       0.978211     0.909962        0.925926\n",
       "9  0.99001        0.997606       0.978211     0.902299        0.932673"
      ]
     },
     "execution_count": 14,
     "metadata": {},
     "output_type": "execute_result"
    }
   ],
   "source": [
    "matrix = np.matrix(np.c_[list_alpha, score_train, score_test, recall_test, precision_test])\n",
    "models = pd.DataFrame(data = matrix, columns = \n",
    "             ['alpha', 'Train Accuracy', 'Test Accuracy', 'Test Recall', 'Test Precision'])\n",
    "models.head(n=10)"
   ]
  },
  {
   "cell_type": "code",
   "execution_count": 15,
   "id": "b7cf03df",
   "metadata": {},
   "outputs": [
    {
     "name": "stdout",
     "output_type": "stream",
     "text": [
      "[0 0 0 ... 0 0 1]\n"
     ]
    }
   ],
   "source": [
    "#Testing the model\n",
    "y_pred=bayes.predict(X_test)\n",
    "print(y_pred)"
   ]
  },
  {
   "cell_type": "code",
   "execution_count": 16,
   "id": "fd6a41d9",
   "metadata": {},
   "outputs": [
    {
     "data": {
      "text/plain": [
       "alpha             10.560010\n",
       "Train Accuracy     0.977259\n",
       "Test Accuracy      0.962830\n",
       "Test Recall        0.722222\n",
       "Test Precision     1.000000\n",
       "Name: 96, dtype: float64"
      ]
     },
     "execution_count": 16,
     "metadata": {},
     "output_type": "execute_result"
    }
   ],
   "source": [
    "best_index = models['Test Precision'].idxmax()\n",
    "models.iloc[best_index,:]"
   ]
  },
  {
   "cell_type": "code",
   "execution_count": 17,
   "id": "b7485219",
   "metadata": {},
   "outputs": [
    {
     "name": "stdout",
     "output_type": "stream",
     "text": [
      "Confusion Matrix obtained: \n",
      "[[3379    0]\n",
      " [ 198  324]]\n"
     ]
    }
   ],
   "source": [
    "#Confusion Matrix for Naive Bayes Classifier\n",
    "from sklearn import metrics\n",
    "from sklearn.metrics import confusion_matrix\n",
    "cm= confusion_matrix(y_test,y_pred)\n",
    "print(\"Confusion Matrix obtained: \")\n",
    "print(cm)"
   ]
  },
  {
   "cell_type": "code",
   "execution_count": 18,
   "id": "b16be097",
   "metadata": {},
   "outputs": [
    {
     "data": {
      "image/png": "[encoded data removed]",
      "text/plain": [
       "<Figure size 432x288 with 2 Axes>"
      ]
     },
     "metadata": {
      "needs_background": "light"
     },
     "output_type": "display_data"
    }
   ],
   "source": [
    "#Displaying the confusion matrix\n",
    "cm_display = metrics.ConfusionMatrixDisplay(confusion_matrix = cm, display_labels =[False,True])\n",
    "cm_display.plot()\n",
    "plt.show()"
   ]
  },
  {
   "cell_type": "code",
   "execution_count": 19,
   "id": "5aaf997d",
   "metadata": {},
   "outputs": [
    {
     "name": "stdout",
     "output_type": "stream",
     "text": [
      "Area under the curve For Naive Bayers: 0.8103448275862069\n"
     ]
    }
   ],
   "source": [
    "#ROC curve for Naive Bayes Classifier\n",
    "from sklearn.metrics import roc_curve, auc\n",
    "false_positive_rate, true_positive_rate, thresholds = roc_curve(y_test, y_pred)\n",
    "roc_auc = auc(false_positive_rate, true_positive_rate)\n",
    "print(\"Area under the curve For Naive Bayers:\",roc_auc)"
   ]
  },
  {
   "cell_type": "code",
   "execution_count": 20,
   "id": "0260304f",
   "metadata": {},
   "outputs": [
    {
     "data": {
      "text/plain": [
       "[<matplotlib.lines.Line2D at 0x1f50a744340>]"
      ]
     },
     "execution_count": 20,
     "metadata": {},
     "output_type": "execute_result"
    },
    {
     "data": {
      "image/png": "[encoded data removed]",
      "text/plain": [
       "<Figure size 432x288 with 1 Axes>"
      ]
     },
     "metadata": {
      "needs_background": "light"
     },
     "output_type": "display_data"
    }
   ],
   "source": [
    "#Displaying the ROC curve \n",
    "plt.plot(false_positive_rate,true_positive_rate)"
   ]
  },
  {
   "cell_type": "code",
   "execution_count": 21,
   "id": "a904a5d8",
   "metadata": {},
   "outputs": [
    {
     "name": "stdout",
     "output_type": "stream",
     "text": [
      "              precision    recall  f1-score   support\n",
      "\n",
      "           0       0.94      1.00      0.97      3379\n",
      "           1       1.00      0.62      0.77       522\n",
      "\n",
      "    accuracy                           0.95      3901\n",
      "   macro avg       0.97      0.81      0.87      3901\n",
      "weighted avg       0.95      0.95      0.94      3901\n",
      "\n"
     ]
    }
   ],
   "source": [
    "from sklearn.metrics import classification_report\n",
    "print(classification_report(y_test,y_pred))"
   ]
  },
  {
   "cell_type": "code",
   "execution_count": 22,
   "id": "038eb6e0",
   "metadata": {},
   "outputs": [],
   "source": [
    "#Random Forest Method\n",
    "rf = RandomForestClassifier(n_estimators=100,max_depth=None,n_jobs=-1)\n",
    "rf_model = rf.fit(X_train,y_train)"
   ]
  },
  {
   "cell_type": "code",
   "execution_count": 23,
   "id": "17152e66",
   "metadata": {},
   "outputs": [
    {
     "name": "stdout",
     "output_type": "stream",
     "text": [
      "Precision : 0.984 / Recall : 0.724 / fscore : 0.834 / Accuracy: 0.962\n"
     ]
    }
   ],
   "source": [
    "y_pred = rf_model.predict(X_test)\n",
    "precision,recall,fscore,support =score(y_test,y_pred,pos_label=1, average ='binary')\n",
    "print('Precision : {} / Recall : {} / fscore : {} / Accuracy: {}'.format(round(precision,3),round(recall,3),round(fscore,3),round((y_pred==y_test).sum()/len(y_test),3)))\n"
   ]
  },
  {
   "cell_type": "code",
   "execution_count": 24,
   "id": "b437a7a2",
   "metadata": {},
   "outputs": [
    {
     "name": "stdout",
     "output_type": "stream",
     "text": [
      "Collecting package metadata (current_repodata.json): ...working... done\n",
      "Solving environment: ...working... done\n",
      "\n",
      "# All requested packages already installed.\n",
      "\n",
      "Retrieving notices: ...working... done\n",
      "\n",
      "Note: you may need to restart the kernel to use updated packages.\n"
     ]
    }
   ],
   "source": [
    "conda install keras"
   ]
  },
  {
   "cell_type": "code",
   "execution_count": 25,
   "id": "547ec20a",
   "metadata": {},
   "outputs": [],
   "source": [
    "#Using NLP using and TensorFlow\n",
    "import tensorflow as tf\n",
    "from tensorflow.keras.preprocessing.text import Tokenizer\n",
    "from tensorflow.keras.layers import Embedding, LSTM, Dropout, Dense\n",
    "from tensorflow.keras.models import Sequential\n",
    "from tensorflow.keras.utils import to_categorical\n",
    "from tensorflow.keras.preprocessing.sequence import pad_sequences\n",
    "import tensorflow as tf"
   ]
  },
  {
   "cell_type": "code",
   "execution_count": 26,
   "id": "cfdd6663",
   "metadata": {},
   "outputs": [],
   "source": [
    "vocab_size = 400\n",
    "oov_tok = \"<OOV>\"\n",
    "max_length = 250\n",
    "embedding_dim = 16\n",
    "encode = ({'ham': 0, 'spam': 1} )\n",
    "#new dataset with replaced values\n",
    "dataset = dataset.replace(encode)"
   ]
  },
  {
   "cell_type": "code",
   "execution_count": 27,
   "id": "9c2d23f5",
   "metadata": {},
   "outputs": [],
   "source": [
    "X = dataset['message']\n",
    "Y = dataset['label']\n",
    "tokenizer = Tokenizer(num_words=vocab_size, oov_token=oov_tok)\n",
    "tokenizer.fit_on_texts(X)\n",
    "# convert to sequence of integers\n",
    "X = tokenizer.texts_to_sequences(X)"
   ]
  },
  {
   "cell_type": "code",
   "execution_count": 28,
   "id": "421d88af",
   "metadata": {},
   "outputs": [
    {
     "name": "stderr",
     "output_type": "stream",
     "text": [
      "<ipython-input-28-67c34fac1eac>:1: VisibleDeprecationWarning: Creating an ndarray from ragged nested sequences (which is a list-or-tuple of lists-or-tuples-or ndarrays with different lengths or shapes) is deprecated. If you meant to do this, you must specify 'dtype=object' when creating the ndarray.\n",
      "  X = np.array(X)\n"
     ]
    }
   ],
   "source": [
    "X = np.array(X)\n",
    "y = np.array(Y)"
   ]
  },
  {
   "cell_type": "code",
   "execution_count": 29,
   "id": "05975fd4",
   "metadata": {},
   "outputs": [],
   "source": [
    "X = pad_sequences(X, maxlen=max_length)"
   ]
  },
  {
   "cell_type": "code",
   "execution_count": 30,
   "id": "8bc39355",
   "metadata": {},
   "outputs": [
    {
     "name": "stdout",
     "output_type": "stream",
     "text": [
      "Model: \"sequential\"\n",
      "_________________________________________________________________\n",
      "Layer (type)                 Output Shape              Param #   \n",
      "=================================================================\n",
      "embedding (Embedding)        (None, 250, 16)           6400      \n",
      "_________________________________________________________________\n",
      "global_average_pooling1d (Gl (None, 16)                0         \n",
      "_________________________________________________________________\n",
      "dense (Dense)                (None, 24)                408       \n",
      "_________________________________________________________________\n",
      "dense_1 (Dense)              (None, 1)                 25        \n",
      "=================================================================\n",
      "Total params: 6,833\n",
      "Trainable params: 6,833\n",
      "Non-trainable params: 0\n",
      "_________________________________________________________________\n"
     ]
    }
   ],
   "source": [
    "model = tf.keras.Sequential([\n",
    "    tf.keras.layers.Embedding(vocab_size, embedding_dim, input_length=max_length),\n",
    "    tf.keras.layers.GlobalAveragePooling1D(),\n",
    "    tf.keras.layers.Dense(24, activation='relu'),\n",
    "    tf.keras.layers.Dense(1, activation='sigmoid')\n",
    "])\n",
    "model.compile(loss='binary_crossentropy',optimizer='adam',metrics=['accuracy'])\n",
    "model.summary()"
   ]
  },
  {
   "cell_type": "code",
   "execution_count": 31,
   "id": "7f33cb91",
   "metadata": {},
   "outputs": [
    {
     "name": "stdout",
     "output_type": "stream",
     "text": [
      "Epoch 1/50\n",
      "140/140 - 1s - loss: 0.5006 - accuracy: 0.8533 - val_loss: 0.3762 - val_accuracy: 0.8700\n",
      "Epoch 2/50\n",
      "140/140 - 0s - loss: 0.3793 - accuracy: 0.8649 - val_loss: 0.3632 - val_accuracy: 0.8700\n",
      "Epoch 3/50\n",
      "140/140 - 0s - loss: 0.3644 - accuracy: 0.8649 - val_loss: 0.3469 - val_accuracy: 0.8700\n",
      "Epoch 4/50\n",
      "140/140 - 0s - loss: 0.3402 - accuracy: 0.8649 - val_loss: 0.3145 - val_accuracy: 0.8700\n",
      "Epoch 5/50\n",
      "140/140 - 1s - loss: 0.2920 - accuracy: 0.8643 - val_loss: 0.2492 - val_accuracy: 0.8673\n",
      "Epoch 6/50\n",
      "140/140 - 0s - loss: 0.2178 - accuracy: 0.8963 - val_loss: 0.1786 - val_accuracy: 0.9417\n",
      "Epoch 7/50\n",
      "140/140 - 0s - loss: 0.1632 - accuracy: 0.9484 - val_loss: 0.1378 - val_accuracy: 0.9578\n",
      "Epoch 8/50\n",
      "140/140 - 0s - loss: 0.1329 - accuracy: 0.9571 - val_loss: 0.1197 - val_accuracy: 0.9623\n",
      "Epoch 9/50\n",
      "140/140 - 0s - loss: 0.1159 - accuracy: 0.9637 - val_loss: 0.1002 - val_accuracy: 0.9659\n",
      "Epoch 10/50\n",
      "140/140 - 0s - loss: 0.1021 - accuracy: 0.9677 - val_loss: 0.0883 - val_accuracy: 0.9686\n",
      "Epoch 11/50\n",
      "140/140 - 0s - loss: 0.0926 - accuracy: 0.9699 - val_loss: 0.0804 - val_accuracy: 0.9704\n",
      "Epoch 12/50\n",
      "140/140 - 0s - loss: 0.0855 - accuracy: 0.9722 - val_loss: 0.0777 - val_accuracy: 0.9731\n",
      "Epoch 13/50\n",
      "140/140 - 0s - loss: 0.0793 - accuracy: 0.9735 - val_loss: 0.0672 - val_accuracy: 0.9785\n",
      "Epoch 14/50\n",
      "140/140 - 0s - loss: 0.0739 - accuracy: 0.9749 - val_loss: 0.0642 - val_accuracy: 0.9785\n",
      "Epoch 15/50\n",
      "140/140 - 0s - loss: 0.0695 - accuracy: 0.9773 - val_loss: 0.0595 - val_accuracy: 0.9803\n",
      "Epoch 16/50\n",
      "140/140 - 1s - loss: 0.0653 - accuracy: 0.9776 - val_loss: 0.0566 - val_accuracy: 0.9812\n",
      "Epoch 17/50\n",
      "140/140 - 0s - loss: 0.0625 - accuracy: 0.9780 - val_loss: 0.0547 - val_accuracy: 0.9821\n",
      "Epoch 18/50\n",
      "140/140 - 0s - loss: 0.0590 - accuracy: 0.9796 - val_loss: 0.0527 - val_accuracy: 0.9839\n",
      "Epoch 19/50\n",
      "140/140 - 0s - loss: 0.0574 - accuracy: 0.9812 - val_loss: 0.0505 - val_accuracy: 0.9821\n",
      "Epoch 20/50\n",
      "140/140 - 0s - loss: 0.0553 - accuracy: 0.9816 - val_loss: 0.0491 - val_accuracy: 0.9848\n",
      "Epoch 21/50\n",
      "140/140 - 0s - loss: 0.0535 - accuracy: 0.9823 - val_loss: 0.0489 - val_accuracy: 0.9839\n",
      "Epoch 22/50\n",
      "140/140 - 0s - loss: 0.0517 - accuracy: 0.9829 - val_loss: 0.0471 - val_accuracy: 0.9874\n",
      "Epoch 23/50\n",
      "140/140 - 0s - loss: 0.0497 - accuracy: 0.9832 - val_loss: 0.0462 - val_accuracy: 0.9874\n",
      "Epoch 24/50\n",
      "140/140 - 0s - loss: 0.0489 - accuracy: 0.9829 - val_loss: 0.0462 - val_accuracy: 0.9848\n",
      "Epoch 25/50\n",
      "140/140 - 0s - loss: 0.0481 - accuracy: 0.9838 - val_loss: 0.0450 - val_accuracy: 0.9874\n",
      "Epoch 26/50\n",
      "140/140 - 0s - loss: 0.0464 - accuracy: 0.9845 - val_loss: 0.0451 - val_accuracy: 0.9874\n",
      "Epoch 27/50\n",
      "140/140 - 0s - loss: 0.0448 - accuracy: 0.9850 - val_loss: 0.0448 - val_accuracy: 0.9874\n",
      "Epoch 28/50\n",
      "140/140 - 0s - loss: 0.0439 - accuracy: 0.9854 - val_loss: 0.0435 - val_accuracy: 0.9892\n",
      "Epoch 29/50\n",
      "140/140 - 0s - loss: 0.0430 - accuracy: 0.9868 - val_loss: 0.0454 - val_accuracy: 0.9874\n",
      "Epoch 30/50\n",
      "140/140 - 0s - loss: 0.0421 - accuracy: 0.9870 - val_loss: 0.0426 - val_accuracy: 0.9883\n",
      "Epoch 31/50\n",
      "140/140 - 1s - loss: 0.0417 - accuracy: 0.9856 - val_loss: 0.0425 - val_accuracy: 0.9883\n",
      "Epoch 32/50\n",
      "140/140 - 1s - loss: 0.0406 - accuracy: 0.9865 - val_loss: 0.0490 - val_accuracy: 0.9865\n",
      "Epoch 33/50\n",
      "140/140 - 1s - loss: 0.0397 - accuracy: 0.9870 - val_loss: 0.0422 - val_accuracy: 0.9883\n",
      "Epoch 34/50\n",
      "140/140 - 1s - loss: 0.0387 - accuracy: 0.9865 - val_loss: 0.0420 - val_accuracy: 0.9883\n",
      "Epoch 35/50\n",
      "140/140 - 1s - loss: 0.0374 - accuracy: 0.9868 - val_loss: 0.0423 - val_accuracy: 0.9865\n",
      "Epoch 36/50\n",
      "140/140 - 1s - loss: 0.0373 - accuracy: 0.9879 - val_loss: 0.0418 - val_accuracy: 0.9892\n",
      "Epoch 37/50\n",
      "140/140 - 1s - loss: 0.0368 - accuracy: 0.9886 - val_loss: 0.0416 - val_accuracy: 0.9901\n",
      "Epoch 38/50\n",
      "140/140 - 0s - loss: 0.0355 - accuracy: 0.9886 - val_loss: 0.0413 - val_accuracy: 0.9901\n",
      "Epoch 39/50\n",
      "140/140 - 0s - loss: 0.0342 - accuracy: 0.9888 - val_loss: 0.0423 - val_accuracy: 0.9892\n",
      "Epoch 40/50\n",
      "140/140 - 0s - loss: 0.0345 - accuracy: 0.9886 - val_loss: 0.0418 - val_accuracy: 0.9883\n",
      "Epoch 41/50\n",
      "140/140 - 0s - loss: 0.0345 - accuracy: 0.9895 - val_loss: 0.0409 - val_accuracy: 0.9901\n",
      "Epoch 42/50\n",
      "140/140 - 0s - loss: 0.0335 - accuracy: 0.9897 - val_loss: 0.0412 - val_accuracy: 0.9883\n",
      "Epoch 43/50\n",
      "140/140 - 0s - loss: 0.0329 - accuracy: 0.9892 - val_loss: 0.0468 - val_accuracy: 0.9892\n",
      "Epoch 44/50\n",
      "140/140 - 0s - loss: 0.0325 - accuracy: 0.9890 - val_loss: 0.0419 - val_accuracy: 0.9901\n",
      "Epoch 45/50\n",
      "140/140 - 0s - loss: 0.0313 - accuracy: 0.9901 - val_loss: 0.0411 - val_accuracy: 0.9910\n",
      "Epoch 46/50\n",
      "140/140 - 0s - loss: 0.0310 - accuracy: 0.9904 - val_loss: 0.0418 - val_accuracy: 0.9883\n",
      "Epoch 47/50\n",
      "140/140 - 0s - loss: 0.0296 - accuracy: 0.9895 - val_loss: 0.0433 - val_accuracy: 0.9874\n",
      "Epoch 48/50\n",
      "140/140 - 1s - loss: 0.0296 - accuracy: 0.9906 - val_loss: 0.0434 - val_accuracy: 0.9901\n",
      "Epoch 49/50\n",
      "140/140 - 0s - loss: 0.0294 - accuracy: 0.9904 - val_loss: 0.0411 - val_accuracy: 0.9901\n",
      "Epoch 50/50\n",
      "140/140 - 0s - loss: 0.0286 - accuracy: 0.9904 - val_loss: 0.0415 - val_accuracy: 0.9892\n"
     ]
    }
   ],
   "source": [
    "num_epochs = 50\n",
    "X_train, X_test, y_train, y_test = train_test_split(X, Y, test_size=.20, random_state=7)\n",
    "history = model.fit(X_train, y_train, epochs=num_epochs, validation_data=(X_test,y_test), verbose=2)"
   ]
  },
  {
   "cell_type": "code",
   "execution_count": 32,
   "id": "e2b8d46b",
   "metadata": {},
   "outputs": [
    {
     "name": "stdout",
     "output_type": "stream",
     "text": [
      "35/35 [==============================] - 0s 2ms/step - loss: 0.0415 - accuracy: 0.9892\n",
      "[+] Accuracy: 98.92%\n"
     ]
    }
   ],
   "source": [
    "results = model.evaluate(X_test, y_test)\n",
    "loss = results[0]\n",
    "accuracy = results[1]\n",
    "\n",
    "\n",
    "print(f\"[+] Accuracy: {accuracy*100:.2f}%\")"
   ]
  },
  {
   "cell_type": "code",
   "execution_count": 33,
   "id": "be2b626e",
   "metadata": {},
   "outputs": [],
   "source": [
    "from tensorflow.keras.preprocessing import sequence\n"
   ]
  },
  {
   "cell_type": "code",
   "execution_count": 34,
   "id": "c1243179",
   "metadata": {},
   "outputs": [],
   "source": [
    "#Defining the function\n",
    "def get_predictions(txts):\n",
    "    txts = tokenizer.texts_to_sequences(txts)\n",
    "    txts = sequence.pad_sequences(txts, maxlen=max_length)\n",
    "    preds = model.predict(txts)\n",
    "    if(preds[0] > 0.5):\n",
    "        print(\"SPAM MESSAGE\")\n",
    "        \n",
    "    else:\n",
    "        print('NOT SPAM')"
   ]
  },
  {
   "cell_type": "code",
   "execution_count": 35,
   "id": "ae978ed2",
   "metadata": {},
   "outputs": [
    {
     "name": "stdout",
     "output_type": "stream",
     "text": [
      "SPAM MESSAGE\n",
      "None\n",
      "NOT SPAM\n",
      "None\n"
     ]
    }
   ],
   "source": [
    "txts=[\"You have won a free ticket to las vegas. Contact now\"]\n",
    "print(get_predictions(txts))\n",
    "txts=[\"Hey there call me asap!!\"]\n",
    "\n",
    "print(get_predictions(txts))"
   ]
  },
  {
   "cell_type": "code",
   "execution_count": 36,
   "id": "3ab972a5",
   "metadata": {},
   "outputs": [
    {
     "data": {
      "text/plain": [
       "SVC()"
      ]
     },
     "execution_count": 36,
     "metadata": {},
     "output_type": "execute_result"
    }
   ],
   "source": [
    "#SVM Classification\n",
    "#Creating a SVC model\n",
    "from sklearn.svm import SVC\n",
    "svc_model = SVC() #initialize the code module\n",
    "svc_model.fit(X_train,y_train)"
   ]
  },
  {
   "cell_type": "code",
   "execution_count": 37,
   "id": "96d8cac9",
   "metadata": {},
   "outputs": [
    {
     "name": "stdout",
     "output_type": "stream",
     "text": [
      "[0 0 0 ... 0 0 0]\n"
     ]
    }
   ],
   "source": [
    "#Testing the model\n",
    "y_pred1 = svc_model.predict(X_test)\n",
    "print(y_pred1)"
   ]
  },
  {
   "cell_type": "code",
   "execution_count": 38,
   "id": "f9cdfa11",
   "metadata": {},
   "outputs": [
    {
     "name": "stdout",
     "output_type": "stream",
     "text": [
      "Confusion Matrix obtained: \n",
      "[[964   6]\n",
      " [102  43]]\n"
     ]
    }
   ],
   "source": [
    "#Confusion Matrix for Support Vector Machine classifier\n",
    "cm1= confusion_matrix(y_test,y_pred1)\n",
    "print(\"Confusion Matrix obtained: \")\n",
    "print(cm1)"
   ]
  },
  {
   "cell_type": "code",
   "execution_count": 39,
   "id": "9b69f246",
   "metadata": {},
   "outputs": [
    {
     "data": {
      "image/png": "[encoded data removed]",
      "text/plain": [
       "<Figure size 432x288 with 2 Axes>"
      ]
     },
     "metadata": {
      "needs_background": "light"
     },
     "output_type": "display_data"
    }
   ],
   "source": [
    "#Displaying the Confusion matrix\n",
    "cm_display = metrics.ConfusionMatrixDisplay(confusion_matrix = cm1, display_labels =[False,True])\n",
    "cm_display.plot()\n",
    "plt.show()"
   ]
  },
  {
   "cell_type": "code",
   "execution_count": 40,
   "id": "aa1ea51a",
   "metadata": {},
   "outputs": [
    {
     "name": "stdout",
     "output_type": "stream",
     "text": [
      "Accuracy of SVM model: 0.9031390134529148\n"
     ]
    }
   ],
   "source": [
    "#Accuracy of SVC\n",
    "print(\"Accuracy of SVM model:\",metrics.accuracy_score(y_test, y_pred1))"
   ]
  },
  {
   "cell_type": "code",
   "execution_count": 41,
   "id": "1a020e13",
   "metadata": {},
   "outputs": [
    {
     "name": "stdout",
     "output_type": "stream",
     "text": [
      "Area under the curve For SVC: 0.6451830785638109\n"
     ]
    }
   ],
   "source": [
    "#ROC curve for SVC\n",
    "\n",
    "false_positive_rate, true_positive_rate, thresholds = roc_curve(y_test, y_pred1)\n",
    "roc_auc = auc(false_positive_rate, true_positive_rate)\n",
    "print(\"Area under the curve For SVC:\",roc_auc)"
   ]
  },
  {
   "cell_type": "code",
   "execution_count": 42,
   "id": "020eb8b1",
   "metadata": {},
   "outputs": [
    {
     "data": {
      "text/plain": [
       "[<matplotlib.lines.Line2D at 0x1f512576ca0>]"
      ]
     },
     "execution_count": 42,
     "metadata": {},
     "output_type": "execute_result"
    },
    {
     "data": {
      "image/png": "[encoded data removed]",
      "text/plain": [
       "<Figure size 432x288 with 1 Axes>"
      ]
     },
     "metadata": {
      "needs_background": "light"
     },
     "output_type": "display_data"
    }
   ],
   "source": [
    "plt.plot(false_positive_rate,true_positive_rate)"
   ]
  },
  {
   "cell_type": "code",
   "execution_count": 43,
   "id": "d120ce51",
   "metadata": {},
   "outputs": [
    {
     "name": "stdout",
     "output_type": "stream",
     "text": [
      "              precision    recall  f1-score   support\n",
      "\n",
      "           0       0.90      0.99      0.95       970\n",
      "           1       0.88      0.30      0.44       145\n",
      "\n",
      "    accuracy                           0.90      1115\n",
      "   macro avg       0.89      0.65      0.70      1115\n",
      "weighted avg       0.90      0.90      0.88      1115\n",
      "\n"
     ]
    }
   ],
   "source": [
    "#Printing the classification report of SVM classifier model\n",
    "print(classification_report(y_test,y_pred1))"
   ]
  },
  {
   "cell_type": "code",
   "execution_count": null,
   "id": "7f2342a1",
   "metadata": {},
   "outputs": [],
   "source": []
  }
 ],
 "metadata": {
  "kernelspec": {
   "display_name": "Python 3",
   "language": "python",
   "name": "python3"
  },
  "language_info": {
   "codemirror_mode": {
    "name": "ipython",
    "version": 3
   },
   "file_extension": ".py",
   "mimetype": "text/x-python",
   "name": "python",
   "nbconvert_exporter": "python",
   "pygments_lexer": "ipython3",
   "version": "3.8.8"
  }
 },
 "nbformat": 4,
 "nbformat_minor": 5
}
